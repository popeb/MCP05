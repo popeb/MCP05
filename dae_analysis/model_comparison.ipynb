{
 "metadata": {
  "name": ""
 },
 "nbformat": 3,
 "nbformat_minor": 0,
 "worksheets": [
  {
   "cells": [
    {
     "cell_type": "code",
     "collapsed": false,
     "input": [
      "## WARNING\n",
      "## labels of PCA and dAE do not coincide. this is caused by last dimer commit and\n",
      "## the current dataset archive being generated before that commit\n",
      "## results are not affected becasue I check for all possible label permutations \n",
      "## (see CR.relabel in utils.py)\n",
      "\n",
      "import sys\n",
      "import random\n",
      "from dimer import data\n",
      "from dimer.nnet import config_spec\n",
      "from utils import *\n",
      "\n",
      "## DATASET ##\n",
      "full_ds_spec = config_spec.ExpSpec(\"W500000_B200.h5\", \"full\", \"\")\n",
      "ds = data.AnchorDataset._from_archive(full_ds_spec.ds_path, True)\n",
      "ds.flatten()\n",
      "SMPL_IDX = random.sample(xrange(ds.X.shape[0]), 20)\n"
     ],
     "language": "python",
     "metadata": {},
     "outputs": [
      {
       "output_type": "stream",
       "stream": "stderr",
       "text": [
        "INFO:dimer.data:allocated dataset. X of shape (2200, 7, 5000), Y (2200,), T (2200,)\n"
       ]
      }
     ],
     "prompt_number": 2
    },
    {
     "cell_type": "code",
     "collapsed": false,
     "input": [
      "tr = train(ds, SMPL_IDX, pca_sizes=[2, 5, 10], layers=[3], cluster_methods=[km, ward])"
     ],
     "language": "python",
     "metadata": {},
     "outputs": [
      {
       "output_type": "stream",
       "stream": "stderr",
       "text": [
        "INFO:root:training PCA2_KM on X(20, 2)\n"
       ]
      },
      {
       "output_type": "stream",
       "stream": "stderr",
       "text": [
        "INFO:root:training PCA2_H on X(20, 2)\n"
       ]
      },
      {
       "output_type": "stream",
       "stream": "stderr",
       "text": [
        "INFO:root:training PCA5_KM on X(20, 5)\n"
       ]
      },
      {
       "output_type": "stream",
       "stream": "stderr",
       "text": [
        "INFO:root:training PCA5_H on X(20, 5)\n"
       ]
      },
      {
       "output_type": "stream",
       "stream": "stderr",
       "text": [
        "INFO:root:training PCA10_KM on X(20, 10)\n"
       ]
      },
      {
       "output_type": "stream",
       "stream": "stderr",
       "text": [
        "INFO:root:training PCA10_H on X(20, 10)\n"
       ]
      },
      {
       "output_type": "stream",
       "stream": "stderr",
       "text": [
        "INFO:root:training RAW_KM on X(20, 35000)\n"
       ]
      },
      {
       "output_type": "stream",
       "stream": "stderr",
       "text": [
        "INFO:root:training RAW_H on X(20, 35000)\n"
       ]
      },
      {
       "output_type": "stream",
       "stream": "stderr",
       "text": [
        "INFO:root:training dAE3_KM on X(20, 5)\n"
       ]
      },
      {
       "output_type": "stream",
       "stream": "stderr",
       "text": [
        "INFO:root:training dAE3_H on X(20, 5)\n"
       ]
      }
     ],
     "prompt_number": 4
    },
    {
     "cell_type": "code",
     "collapsed": false,
     "input": [],
     "language": "python",
     "metadata": {},
     "outputs": [
      {
       "metadata": {},
       "output_type": "pyout",
       "prompt_number": 5,
       "text": [
        "('PCA2_KM',\n",
        " KMeans(copy_x=True, init='k-means++', max_iter=300, n_clusters=3, n_init=5,\n",
        "    n_jobs=-1, precompute_distances=True, random_state=None, tol=0.0001,\n",
        "    verbose=0),\n",
        " None,\n",
        " array([2, 2, 0, 0, 0, 2, 0, 2, 2, 2, 2, 1, 2, 2, 0, 2, 1, 0, 1, 0]))"
       ]
      }
     ],
     "prompt_number": 5
    },
    {
     "cell_type": "code",
     "collapsed": false,
     "input": [
      "## compute on a small sample ##\n",
      "#tr = train(ds, SMPL_IDX, pca_sizes=[2, 5, 10], layers=[3], cluster_methods=[km], keep_data=True)\n",
      "sc = map(lambda t: (t[0], -t[1].score(t[2])), filter(lambda t: t[0].endswith(\"KM\"), tr))\n",
      "pd.Series(data=map(itemgetter(1), sc), \n",
      "          index=map(itemgetter(0), sc)).plot(kind='bar', title=\"Cluster spread (L2)\")"
     ],
     "language": "python",
     "metadata": {},
     "outputs": [
      {
       "metadata": {},
       "output_type": "pyout",
       "prompt_number": 16,
       "text": [
        "<matplotlib.axes._subplots.AxesSubplot at 0x15be88ad0>"
       ]
      }
     ],
     "prompt_number": 16
    },
    {
     "cell_type": "code",
     "collapsed": false,
     "input": [
      "import cPickle\n",
      "sc = log(cPickle.load(open('km_scores.pkl')))\n",
      "f, ax = subplots()\n",
      "#sc.plot(kind='bar', title=\"Cluster spread (L2)\")\n",
      "ax.barh(np.arange(len(sc)), sc, align='center')\n",
      "yticks(np.arange(len(sc)), sc.index)\n",
      "xlabel(\"Sum of distances (log-scale)\")"
     ],
     "language": "python",
     "metadata": {},
     "outputs": [
      {
       "metadata": {},
       "output_type": "pyout",
       "prompt_number": 47,
       "text": [
        "<matplotlib.text.Text at 0x15c7b43d0>"
       ]
      }
     ],
     "prompt_number": 47
    },
    {
     "cell_type": "code",
     "collapsed": false,
     "input": [
      "import cPickle\n",
      "tr = cPickle.load(open('tr.pkl'))\n",
      "A = analyze(predict(tr))\n",
      "fig, ax = subplots(nrows=2, sharex=True)\n",
      "for i, c in enumerate((\"KM\", \"H\")):\n",
      "    df = A.loc[filter(lambda s: s.endswith(c), A.index)]\n",
      "    df.plot(kind='bar', ax=ax[i], title={\"KM\": \"KMeans clustering\", \"H\": \"Hierarchical clustering\"}[c])"
     ],
     "language": "python",
     "metadata": {},
     "outputs": [],
     "prompt_number": 17
    },
    {
     "cell_type": "code",
     "collapsed": false,
     "input": [
      "P = predict(tr)\n",
      "with open(\"conf_mat.txt\",  'w') as ofd:\n",
      "    for i in P.items:\n",
      "        print >>ofd, i\n",
      "        print >>ofd, CR.confmat(ds, P[i][\"y_pred\"], P[i][\"y_true\"])\n",
      "        print  >>ofd, \"\""
     ],
     "language": "python",
     "metadata": {},
     "outputs": [],
     "prompt_number": 12
    },
    {
     "cell_type": "code",
     "collapsed": false,
     "input": [],
     "language": "python",
     "metadata": {},
     "outputs": [],
     "prompt_number": 12
    },
    {
     "cell_type": "code",
     "collapsed": false,
     "input": [
      "## TESTING \n",
      "from sklearn.datasets import load_digits\n",
      "digits = load_digits()\n",
      "#X, y = digits.data[digits.target < 2], digits.target[digits.target < 2]\n",
      "X, y = ds.X, ds.Y\n",
      "x = PCA(n_components=2).fit_transform(scale(X))"
     ],
     "language": "python",
     "metadata": {},
     "outputs": [],
     "prompt_number": 6
    },
    {
     "cell_type": "code",
     "collapsed": false,
     "input": [],
     "language": "python",
     "metadata": {},
     "outputs": [],
     "prompt_number": 12
    },
    {
     "cell_type": "code",
     "collapsed": false,
     "input": [],
     "language": "python",
     "metadata": {},
     "outputs": [],
     "prompt_number": 12
    },
    {
     "cell_type": "code",
     "collapsed": false,
     "input": [],
     "language": "python",
     "metadata": {},
     "outputs": []
    }
   ],
   "metadata": {}
  }
 ]
}